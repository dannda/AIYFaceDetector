{
 "cells": [
  {
   "cell_type": "markdown",
   "metadata": {},
   "source": [
    "Detección de rostros utilizando Google AIY Vision Kit"
   ]
  },
  {
   "cell_type": "markdown",
   "metadata": {},
   "source": [
    "Introducción"
    
    "Se ha desarrollado tecnología para la detección de rostros y sistemas de reconocimiento."
    "Para la captura de imagen se utilizan cámaras y el procesamiento de las imagenes se genera por las siguientes etapas:"
    "1) Adquisición de la imágen"
    "2) Procesamiento para la detección de rostros"
    "3) Extracción de características"
    "4) Recoocimiento facial"
    "5) Verificación e Identifi"
    "En este artículo se presenta un proyecto para la detección de rostros"
    "implementando Google AIY"
  },
  {
   "cell_type": "markdown",
   "metadata": {},
   "source": [
    "Aplicación"
   ]
  },
  {
   "cell_type": "markdown",
   "metadata": {},
   "source": [
    "Requerimientos de Hardware"
   ]
  },
  {
   "cell_type": "markdown",
   "metadata": {},
   "source": [
    "Requerimientos de Software"
   ]
  },
  {
   "cell_type": "markdown",
   "metadata": {},
   "source": [
    "Código fuente"
   ]
  },
  {
   "cell_type": "markdown",
   "metadata": {},
   "source": [
    "Pruebas"
   ]
  },
  {
   "cell_type": "markdown",
   "metadata": {},
   "source": [
    "Discusión"
   ]
  }
 ],
 "metadata": {
  "kernelspec": {
   "display_name": "Python 3",
   "language": "python",
   "name": "python3"
  },
  "language_info": {
   "codemirror_mode": {
    "name": "ipython",
    "version": 3
   },
   "file_extension": ".py",
   "mimetype": "text/x-python",
   "name": "python",
   "nbconvert_exporter": "python",
   "pygments_lexer": "ipython3",
   "version": "3.7.0"
  }
 },
 "nbformat": 4,
 "nbformat_minor": 2
}
